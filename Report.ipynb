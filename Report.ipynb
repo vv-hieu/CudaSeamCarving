{
 "cells": [
  {
   "cell_type": "code",
   "execution_count": 1,
   "metadata": {},
   "outputs": [
    {
     "name": "stdout",
     "output_type": "stream",
     "text": [
      "GPU compute capability: 8.6\n"
     ]
    }
   ],
   "source": [
    "from numba import cuda\n",
    "major, minor = cuda.get_current_device().compute_capability\n",
    "print(f'GPU compute capability: {major}.{minor}')"
   ]
  },
  {
   "cell_type": "code",
   "execution_count": 3,
   "metadata": {},
   "outputs": [
    {
     "name": "stdout",
     "output_type": "stream",
     "text": [
      "SeamCarving.cu(48): warning #177-D: variable \"input_file\" was declared but never referenced\n",
      "\n",
      "Remark: The warnings can be suppressed with \"-diag-suppress <warning-number>\"\n",
      "\n",
      "SeamCarving.cu(49): warning #177-D: variable \"output_file\" was declared but never referenced\n",
      "\n",
      "SeamCarving.cu\n",
      "tmpxft_00000954_00000000-10_SeamCarving.cudafe1.cpp\n",
      "   Creating library SeamCarving.lib and object SeamCarving.exp\n"
     ]
    }
   ],
   "source": [
    "!nvcc -arch=sm_{major}{minor} SeamCarving.cu -o SeamCarving"
   ]
  }
 ],
 "metadata": {
  "kernelspec": {
   "display_name": "Python 3.10.4 64-bit",
   "language": "python",
   "name": "python3"
  },
  "language_info": {
   "codemirror_mode": {
    "name": "ipython",
    "version": 3
   },
   "file_extension": ".py",
   "mimetype": "text/x-python",
   "name": "python",
   "nbconvert_exporter": "python",
   "pygments_lexer": "ipython3",
   "version": "3.10.4"
  },
  "orig_nbformat": 4,
  "vscode": {
   "interpreter": {
    "hash": "107d7b120a5b68773a87d4067e673630b35702e55ebab3138143d08b1c4d7cbc"
   }
  }
 },
 "nbformat": 4,
 "nbformat_minor": 2
}
