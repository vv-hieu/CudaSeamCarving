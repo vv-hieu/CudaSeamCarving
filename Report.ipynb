{
 "cells": [
  {
   "cell_type": "code",
   "execution_count": 11,
   "metadata": {},
   "outputs": [
    {
     "name": "stdout",
     "output_type": "stream",
     "text": [
      "GPU compute capability: 8.6\n"
     ]
    }
   ],
   "source": [
    "from numba import cuda\n",
    "from PnmUtils import *\n",
    "\n",
    "major, minor = cuda.get_current_device().compute_capability\n",
    "print(f'GPU compute capability: {major}.{minor}')"
   ]
  },
  {
   "cell_type": "code",
   "execution_count": 12,
   "metadata": {},
   "outputs": [
    {
     "name": "stdout",
     "output_type": "stream",
     "text": [
      "SeamCarving.cu\n",
      "tmpxft_00001650_00000000-10_SeamCarving.cudafe1.cpp\n",
      "   Creating library SeamCarving.lib and object SeamCarving.exp\n"
     ]
    }
   ],
   "source": [
    "!nvcc -arch=sm_{major}{minor} SeamCarving.cu -o SeamCarving"
   ]
  },
  {
   "cell_type": "code",
   "execution_count": 18,
   "metadata": {},
   "outputs": [
    {
     "name": "stdout",
     "output_type": "stream",
     "text": [
      "[INFO] GPU\n",
      "[INFO]     Name                         : NVIDIA GeForce RTX 3060 Laptop GPU\n",
      "[INFO]     Compute capability           : 8.6\n",
      "[INFO]     Number of SMs                : 30\n",
      "[INFO]     Max number of threads per SM : 1536\n",
      "[INFO]     Max number of warps per SM   : 48\n",
      "[INFO]     GMEM                         : 6441926656 byte\n",
      "[INFO]     SMEM per SM                  : 102400 byte\n",
      "[INFO]     SMEM per block               : 49152 byte\n",
      "\n",
      "[INFO] Input image\n",
      "[INFO]     Width  : 256 (pixels)\n",
      "[INFO]     Height : 256 (pixels)\n",
      "\n",
      "[INFO] Output image\n",
      "[INFO]     Width  : 128 (pixels)\n",
      "[INFO]     Height : 256 (pixels)\n",
      "\n"
     ]
    }
   ],
   "source": [
    "!SeamCarving snail.pnm 128 outut.pnm 64 64"
   ]
  }
 ],
 "metadata": {
  "kernelspec": {
   "display_name": "Python 3.10.4 64-bit",
   "language": "python",
   "name": "python3"
  },
  "language_info": {
   "codemirror_mode": {
    "name": "ipython",
    "version": 3
   },
   "file_extension": ".py",
   "mimetype": "text/x-python",
   "name": "python",
   "nbconvert_exporter": "python",
   "pygments_lexer": "ipython3",
   "version": "3.10.4"
  },
  "orig_nbformat": 4,
  "vscode": {
   "interpreter": {
    "hash": "107d7b120a5b68773a87d4067e673630b35702e55ebab3138143d08b1c4d7cbc"
   }
  }
 },
 "nbformat": 4,
 "nbformat_minor": 2
}
